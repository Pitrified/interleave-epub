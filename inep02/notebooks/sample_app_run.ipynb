{
 "cells": [
  {
   "cell_type": "code",
   "execution_count": null,
   "metadata": {},
   "outputs": [],
   "source": [
    "%load_ext autoreload\n",
    "%autoreload 2"
   ]
  },
  {
   "cell_type": "markdown",
   "metadata": {},
   "source": [
    "# Create and use the app\n",
    "\n",
    "1. Create the app\n",
    "1. Pick the languages\n",
    "1. Load the NLP models\n",
    "1. Load the books\n"
   ]
  },
  {
   "cell_type": "code",
   "execution_count": null,
   "metadata": {},
   "outputs": [],
   "source": [
    "from pathlib import Path\n",
    "\n",
    "import matplotlib.pyplot as plt\n",
    "from transformers.pipelines import pipeline\n",
    "\n",
    "from interleave_epub.epub.epub import EPub\n",
    "from interleave_epub.interleave.constants import (\n",
    "    hug_model_name_tmpl,\n",
    "    hug_trad_cache_fol,\n",
    "    sent_model_names,\n",
    "    spa_model_cache_fol,\n",
    "    spa_model_names,\n",
    ")\n",
    "from interleave_epub.interleave.interactive import InterleaverInteractive\n",
    "from interleave_epub.nlp.cached_pipe import TranslationPipelineCache\n",
    "from interleave_epub.nlp.local_spacy_model import spacy_load_local_model\n"
   ]
  },
  {
   "cell_type": "markdown",
   "metadata": {},
   "source": [
    "## Constants\n"
   ]
  },
  {
   "cell_type": "markdown",
   "metadata": {},
   "source": [
    "### Ep paths\n"
   ]
  },
  {
   "cell_type": "code",
   "execution_count": null,
   "metadata": {},
   "outputs": [],
   "source": [
    "epub_folder_path = Path(\"~\").expanduser() / \"snippet\" / \"datasets\" / \"ebook\"\n",
    "\n",
    "epub_paths = {\n",
    "    \"fr\": epub_folder_path / \"Gaston_Leroux_-_Le_Mystere_de_la_chambre_jaune.epub\",\n",
    "    \"en\": epub_folder_path / \"mystery_yellow_room.epub\",\n",
    "}"
   ]
  },
  {
   "cell_type": "markdown",
   "metadata": {},
   "source": [
    "### Language tags\n"
   ]
  },
  {
   "cell_type": "code",
   "execution_count": null,
   "metadata": {},
   "outputs": [],
   "source": [
    "lts = [\"fr\", \"en\"]\n"
   ]
  },
  {
   "cell_type": "markdown",
   "metadata": {},
   "source": [
    "## App\n"
   ]
  },
  {
   "cell_type": "code",
   "execution_count": null,
   "metadata": {},
   "outputs": [],
   "source": [
    "ii = InterleaverInteractive()\n"
   ]
  },
  {
   "cell_type": "code",
   "execution_count": null,
   "metadata": {},
   "outputs": [],
   "source": [
    "# set the lang tags\n",
    "ii.set_lang_tag(\"fr\", \"src\")\n",
    "ii.set_lang_tag(\"en\", \"dst\")\n"
   ]
  },
  {
   "cell_type": "code",
   "execution_count": null,
   "metadata": {},
   "outputs": [],
   "source": [
    "# load the models\n",
    "ii.load_nlp()\n"
   ]
  },
  {
   "cell_type": "code",
   "execution_count": null,
   "metadata": {},
   "outputs": [],
   "source": [
    "# load the books\n",
    "ii.add_book(epub_paths[\"fr\"], \"src\", \"Chambre Jaune\")\n",
    "ii.add_book(epub_paths[\"en\"], \"dst\", \"Yellow Room\")\n"
   ]
  },
  {
   "cell_type": "code",
   "execution_count": null,
   "metadata": {},
   "outputs": [],
   "source": [
    "an_epub = ii.epubs[\"src\"]\n",
    "a_chap = an_epub.chapters[0]\n",
    "a_par = a_chap.paragraphs[0]\n",
    "a_par\n"
   ]
  },
  {
   "cell_type": "code",
   "execution_count": null,
   "metadata": {},
   "outputs": [],
   "source": [
    "ii.align_auto()\n"
   ]
  },
  {
   "cell_type": "code",
   "execution_count": null,
   "metadata": {},
   "outputs": [],
   "source": [
    "# ii.aligner.compute_similarity()\n"
   ]
  },
  {
   "cell_type": "code",
   "execution_count": null,
   "metadata": {},
   "outputs": [],
   "source": [
    "al = ii.aligners[ii.ch_id_pair_str]\n"
   ]
  },
  {
   "cell_type": "code",
   "execution_count": null,
   "metadata": {},
   "outputs": [],
   "source": [
    "fig, ax = plt.subplots()\n",
    "ax.imshow(al.sim.T[::-1, :])\n"
   ]
  },
  {
   "cell_type": "code",
   "execution_count": null,
   "metadata": {},
   "outputs": [],
   "source": [
    "# ii.aligner.align_auto(min_sent_len=5)\n"
   ]
  },
  {
   "cell_type": "code",
   "execution_count": null,
   "metadata": {},
   "outputs": [],
   "source": [
    "fig, ax = plt.subplots()\n",
    "ax.scatter(al.all_good_ids_src, al.all_good_ids_dst_max, s=0.1)\n",
    "ax.plot([0, al.sent_num_src], [0, al.sent_num_dst], linewidth=0.3)\n",
    "fit_y = al.fit_func([0, al.sent_num_src])\n",
    "ax.plot([0, al.sent_num_src], fit_y)\n",
    "# ax.plot(all_good_i_rescaled, all_good_max_rescaled, linewidth=0.9)\n",
    "ax.plot(al.all_ids_src, al.all_ids_dst_max, linewidth=0.9)\n",
    "# ax.set_title(f\"Matching\")\n"
   ]
  },
  {
   "cell_type": "code",
   "execution_count": null,
   "metadata": {},
   "outputs": [],
   "source": [
    "fig, ax = plt.subplots(figsize=(10, 16))\n",
    "\n",
    "# plot the fancy ones\n",
    "ax.plot(\n",
    "    al.all_ids_src,\n",
    "    al.all_ids_dst_max,\n",
    "    marker=\"x\",\n",
    "    color=\"r\",\n",
    "    linestyle=\"\",\n",
    "    alpha=0.9,\n",
    ")\n",
    "\n",
    "# plot the greedy ones, where they are different\n",
    "bad_ids_src = []\n",
    "bad_ids_dst = []\n",
    "for i in range(len(al.all_good_ids_src)):\n",
    "    if al.all_ids_dst_max[i] != al.all_good_ids_dst_max[i]:\n",
    "        bad_ids_src.append(al.all_good_ids_src[i])\n",
    "        bad_ids_dst.append(al.all_good_ids_dst_max[i])\n",
    "ax.scatter(\n",
    "    bad_ids_src,\n",
    "    bad_ids_dst,\n",
    "    marker=\"o\",\n",
    "    color=\"r\",\n",
    "    alpha=0.5,\n",
    ")\n",
    "\n",
    "ax.imshow(al.sim.T)\n"
   ]
  },
  {
   "cell_type": "code",
   "execution_count": null,
   "metadata": {},
   "outputs": [],
   "source": [
    "# ii.aligner.compute_ooo_ids()\n"
   ]
  },
  {
   "cell_type": "code",
   "execution_count": null,
   "metadata": {},
   "outputs": [],
   "source": [
    "(\n",
    "    al.curr_id_src,\n",
    "    al.curr_id_dst_interpolate,\n",
    "    al.all_ids_dst_max[al.curr_id_src],\n",
    ")\n"
   ]
  },
  {
   "cell_type": "markdown",
   "metadata": {},
   "source": [
    "Almost done:\n",
    "\n",
    "1. Manually set the dst id\n",
    "1. Add curr src id to the fixed src ids\n",
    "1. Recompute ooo ids, skipping fixed\n",
    "1. Find the first src id to fix\n",
    "1. Get the best guess for dst\n",
    "1. Repeat\n"
   ]
  },
  {
   "cell_type": "code",
   "execution_count": null,
   "metadata": {},
   "outputs": [],
   "source": [
    "id_dst_correct = 5\n",
    "ii.pick_dst_sent(id_dst_correct)"
   ]
  },
  {
   "cell_type": "code",
   "execution_count": null,
   "metadata": {},
   "outputs": [],
   "source": [
    "(\n",
    "    al.curr_id_src,\n",
    "    al.curr_id_dst_interpolate,\n",
    "    al.all_ids_dst_max[al.curr_id_src],\n",
    ")\n"
   ]
  }
 ],
 "metadata": {
  "kernelspec": {
   "display_name": "Python 3.10.6 ('interleave-epub-QmszUGV--py3.10')",
   "language": "python",
   "name": "python3"
  },
  "language_info": {
   "codemirror_mode": {
    "name": "ipython",
    "version": 3
   },
   "file_extension": ".py",
   "mimetype": "text/x-python",
   "name": "python",
   "nbconvert_exporter": "python",
   "pygments_lexer": "ipython3",
   "version": "3.10.6"
  },
  "orig_nbformat": 4,
  "vscode": {
   "interpreter": {
    "hash": "6684783418da4196e33b5bc6e66a97fdf8da1216b5b0b17466c551d04cad5e9a"
   }
  }
 },
 "nbformat": 4,
 "nbformat_minor": 2
}
